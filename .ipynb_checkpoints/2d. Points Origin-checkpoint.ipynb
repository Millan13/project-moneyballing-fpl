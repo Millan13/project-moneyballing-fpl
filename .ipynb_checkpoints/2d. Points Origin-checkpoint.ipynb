{
 "cells": [
  {
   "cell_type": "markdown",
   "metadata": {},
   "source": [
    "# _Moneyballing Fantasy Premier League Football_\n",
    "# Points Origins\n",
    "\n",
    "So far, we have focussed a lot on shots, goals, and assists - this is presumably a significant source of points in FPL.\n",
    "\n",
    "Of course, it would be nice to know for sure...\n",
    "\n",
    "### Import standard libraries..."
   ]
  },
  {
   "cell_type": "code",
   "execution_count": 1,
   "metadata": {},
   "outputs": [],
   "source": [
    "#Standard data manipulations\n",
    "import pandas as pd\n",
    "import numpy as np\n",
    "\n",
    "#SQL\n",
    "import sqlite3\n",
    "#Including custom functions, stored elsewhere in the repo\n",
    "from PythonFunctions.sqlfunctions import *\n",
    "\n",
    "#For getting JSON files from FPL\n",
    "import requests\n",
    "\n",
    "#Data visualisation\n",
    "import matplotlib.pyplot as plt\n",
    "%matplotlib inline\n",
    "import seaborn as sns\n",
    "#Import custom visuals settings\n",
    "from PythonFunctions.cb91visuals import *\n",
    "\n",
    "#Suppress warnings from showing\n",
    "import warnings\n",
    "warnings.filterwarnings('ignore')"
   ]
  },
  {
   "cell_type": "markdown",
   "metadata": {},
   "source": [
    "### Exploring the API\n",
    "\n",
    "The data that we need is available from the FPL API, though it will require some manipulation to get there."
   ]
  },
  {
   "cell_type": "code",
   "execution_count": 2,
   "metadata": {},
   "outputs": [],
   "source": [
    "def EventAPI(event):\n",
    "    '''\n",
    "    Takes match week, and returns the\n",
    "    API JSON file associated with the\n",
    "    player performance in that week.\n",
    "    '''\n",
    "    \n",
    "    url = f'https://fantasy.premierleague.com/api/event/{event}/live/'    \n",
    "    return requests.get(url).json()"
   ]
  },
  {
   "cell_type": "markdown",
   "metadata": {},
   "source": [
    "We can see from a sample json file that we have a list of player dictionaries, with each one looking as follows:"
   ]
  },
  {
   "cell_type": "code",
   "execution_count": 3,
   "metadata": {},
   "outputs": [
    {
     "data": {
      "text/plain": [
       "{'id': 14,\n",
       " 'stats': {'minutes': 90,\n",
       "  'goals_scored': 0,\n",
       "  'assists': 0,\n",
       "  'clean_sheets': 1,\n",
       "  'goals_conceded': 0,\n",
       "  'own_goals': 0,\n",
       "  'penalties_saved': 0,\n",
       "  'penalties_missed': 0,\n",
       "  'yellow_cards': 0,\n",
       "  'red_cards': 0,\n",
       "  'saves': 2,\n",
       "  'bonus': 1,\n",
       "  'bps': 27,\n",
       "  'influence': '18.0',\n",
       "  'creativity': '0.0',\n",
       "  'threat': '0.0',\n",
       "  'ict_index': '1.8',\n",
       "  'total_points': 7,\n",
       "  'in_dreamteam': False},\n",
       " 'explain': [{'fixture': 10,\n",
       "   'stats': [{'identifier': 'minutes', 'points': 2, 'value': 90},\n",
       "    {'identifier': 'clean_sheets', 'points': 4, 'value': 1},\n",
       "    {'identifier': 'bonus', 'points': 1, 'value': 1}]}]}"
      ]
     },
     "execution_count": 3,
     "metadata": {},
     "output_type": "execute_result"
    }
   ],
   "source": [
    "test_event = EventAPI(1)['elements']\n",
    "test_event[0]"
   ]
  },
  {
   "cell_type": "markdown",
   "metadata": {},
   "source": [
    "The data we need here is the 'id' to work out what position the player is (we can refer back to a player table from our existing sql database), and the 'stats' within the 'explain' dictionary, which tells us how they're scoring points."
   ]
  },
  {
   "cell_type": "code",
   "execution_count": 4,
   "metadata": {},
   "outputs": [
    {
     "data": {
      "text/plain": [
       "[{'identifier': 'minutes', 'points': 2, 'value': 90},\n",
       " {'identifier': 'clean_sheets', 'points': 4, 'value': 1},\n",
       " {'identifier': 'bonus', 'points': 1, 'value': 1}]"
      ]
     },
     "execution_count": 4,
     "metadata": {},
     "output_type": "execute_result"
    }
   ],
   "source": [
    "test_event[0]['explain'][0]['stats']"
   ]
  },
  {
   "cell_type": "markdown",
   "metadata": {},
   "source": [
    "Let's bring in the player table."
   ]
  },
  {
   "cell_type": "code",
   "execution_count": 5,
   "metadata": {},
   "outputs": [
    {
     "data": {
      "text/html": [
       "<div>\n",
       "<style scoped>\n",
       "    .dataframe tbody tr th:only-of-type {\n",
       "        vertical-align: middle;\n",
       "    }\n",
       "\n",
       "    .dataframe tbody tr th {\n",
       "        vertical-align: top;\n",
       "    }\n",
       "\n",
       "    .dataframe thead th {\n",
       "        text-align: right;\n",
       "    }\n",
       "</style>\n",
       "<table border=\"1\" class=\"dataframe\">\n",
       "  <thead>\n",
       "    <tr style=\"text-align: right;\">\n",
       "      <th></th>\n",
       "      <th>PlayerID</th>\n",
       "      <th>PlayerCode</th>\n",
       "      <th>FirstName</th>\n",
       "      <th>WebName</th>\n",
       "      <th>Team</th>\n",
       "      <th>Position</th>\n",
       "      <th>CommentName</th>\n",
       "    </tr>\n",
       "    <tr>\n",
       "      <th>PlayersBasicID</th>\n",
       "      <th></th>\n",
       "      <th></th>\n",
       "      <th></th>\n",
       "      <th></th>\n",
       "      <th></th>\n",
       "      <th></th>\n",
       "      <th></th>\n",
       "    </tr>\n",
       "  </thead>\n",
       "  <tbody>\n",
       "    <tr>\n",
       "      <th>1</th>\n",
       "      <td>1</td>\n",
       "      <td>69140</td>\n",
       "      <td>Shkodran</td>\n",
       "      <td>Mustafi</td>\n",
       "      <td>Arsenal</td>\n",
       "      <td>DEF</td>\n",
       "      <td>Shkodran Mustafi</td>\n",
       "    </tr>\n",
       "    <tr>\n",
       "      <th>2</th>\n",
       "      <td>2</td>\n",
       "      <td>98745</td>\n",
       "      <td>Hector</td>\n",
       "      <td>Bellerin</td>\n",
       "      <td>Arsenal</td>\n",
       "      <td>DEF</td>\n",
       "      <td>Hector Bellerin</td>\n",
       "    </tr>\n",
       "    <tr>\n",
       "      <th>3</th>\n",
       "      <td>3</td>\n",
       "      <td>111457</td>\n",
       "      <td>Sead</td>\n",
       "      <td>Kolasinac</td>\n",
       "      <td>Arsenal</td>\n",
       "      <td>DEF</td>\n",
       "      <td>Sead Kolasinac</td>\n",
       "    </tr>\n",
       "    <tr>\n",
       "      <th>4</th>\n",
       "      <td>4</td>\n",
       "      <td>154043</td>\n",
       "      <td>Ainsley</td>\n",
       "      <td>Maitland-Niles</td>\n",
       "      <td>Arsenal</td>\n",
       "      <td>DEF</td>\n",
       "      <td>Ainsley Maitland-Niles</td>\n",
       "    </tr>\n",
       "    <tr>\n",
       "      <th>5</th>\n",
       "      <td>5</td>\n",
       "      <td>39476</td>\n",
       "      <td>Sokratis</td>\n",
       "      <td>Sokratis</td>\n",
       "      <td>Arsenal</td>\n",
       "      <td>DEF</td>\n",
       "      <td>Sokratis</td>\n",
       "    </tr>\n",
       "  </tbody>\n",
       "</table>\n",
       "</div>"
      ],
      "text/plain": [
       "                PlayerID PlayerCode FirstName         WebName     Team  \\\n",
       "PlayersBasicID                                                           \n",
       "1                      1      69140  Shkodran         Mustafi  Arsenal   \n",
       "2                      2      98745    Hector        Bellerin  Arsenal   \n",
       "3                      3     111457      Sead       Kolasinac  Arsenal   \n",
       "4                      4     154043   Ainsley  Maitland-Niles  Arsenal   \n",
       "5                      5      39476  Sokratis        Sokratis  Arsenal   \n",
       "\n",
       "               Position             CommentName  \n",
       "PlayersBasicID                                   \n",
       "1                   DEF        Shkodran Mustafi  \n",
       "2                   DEF         Hector Bellerin  \n",
       "3                   DEF          Sead Kolasinac  \n",
       "4                   DEF  Ainsley Maitland-Niles  \n",
       "5                   DEF                Sokratis  "
      ]
     },
     "execution_count": 5,
     "metadata": {},
     "output_type": "execute_result"
    }
   ],
   "source": [
    "#Create the database 'fpl.db' (fantasy premier league!)\n",
    "conn = sqlite3.connect('Data/fpl.db')\n",
    "#Instantiate a cursor\n",
    "cur = conn.cursor()\n",
    "df_players = sql('select * from PlayersBasic', cur)\n",
    "df_players.head()"
   ]
  },
  {
   "cell_type": "markdown",
   "metadata": {},
   "source": [
    "We can make a quick function that will return the player position (Goalkeeper, Defender, etc.) of a given PlayerID."
   ]
  },
  {
   "cell_type": "code",
   "execution_count": 6,
   "metadata": {},
   "outputs": [],
   "source": [
    "def id_position(x):\n",
    "    return df_players.loc[df_players['PlayerID']==x, 'Position'].item()"
   ]
  },
  {
   "cell_type": "markdown",
   "metadata": {},
   "source": [
    "### Building out the data\n",
    "\n",
    "We'll build out this data as a series of nested dictionaries. We'll start with a dictionary for each position, with a structure like this:\n",
    "\n",
    "`{'clean_sheets':{'points':x, 'value':y}, minutes_played:{'points':x, 'value':y}, ...}`"
   ]
  },
  {
   "cell_type": "code",
   "execution_count": 7,
   "metadata": {},
   "outputs": [],
   "source": [
    "points_dict = {'GKP':{}, 'DEF':{}, 'MID':{}, 'FWD':{}}\n",
    "\n",
    "#Iterate through the different gameweeks\n",
    "for gameweek in range(1,30):\n",
    "    #Get the json file for each gameweek\n",
    "    json_file = EventAPI(gameweek)['elements']\n",
    "    \n",
    "    #Iterate through the players in each json file\n",
    "    for player in json_file:\n",
    "        #Get the player's position\n",
    "        pos = id_position(player['id'])\n",
    "\n",
    "        #Get the player stats from the json\n",
    "        explain = player['explain']\n",
    "        \n",
    "        #Check if it's non-blank\n",
    "        if len(explain) == 0:\n",
    "            continue\n",
    "        else:\n",
    "            stats = explain[0]['stats']\n",
    "            #For each type of stat\n",
    "            for stat in stats:\n",
    "                #Get the name of the stat, the points earned\n",
    "                #and the frequency/value\n",
    "                event = stat['identifier']\n",
    "                points = stat['points']\n",
    "                value = stat['value']\n",
    "\n",
    "                #Check if the event already exists in the position\n",
    "                if points_dict[pos].get(event, 'NA') == 'NA':\n",
    "                    #If not, create it\n",
    "                    points_dict[pos][event] = {'points':points,\n",
    "                                             'value':value}\n",
    "                #Otherwise, just add it to the exitsting KV pair\n",
    "                else:\n",
    "                    points_dict[pos][event]['points'] += points\n",
    "                    points_dict[pos][event]['value'] += value"
   ]
  },
  {
   "cell_type": "code",
   "execution_count": 8,
   "metadata": {},
   "outputs": [
    {
     "data": {
      "text/plain": [
       "{'GKP': {'minutes': {'points': 1155, 'value': 51648},\n",
       "  'clean_sheets': {'points': 600, 'value': 150},\n",
       "  'bonus': {'points': 174, 'value': 174},\n",
       "  'saves': {'points': 393, 'value': 1401},\n",
       "  'goals_conceded': {'points': -260, 'value': 584},\n",
       "  'penalties_saved': {'points': 70, 'value': 14},\n",
       "  'yellow_cards': {'points': -23, 'value': 23},\n",
       "  'assists': {'points': 9, 'value': 3},\n",
       "  'own_goals': {'points': -8, 'value': 4},\n",
       "  'red_cards': {'points': -6, 'value': 2}},\n",
       " 'DEF': {'minutes': {'points': 4963, 'value': 213428},\n",
       "  'assists': {'points': 480, 'value': 160},\n",
       "  'clean_sheets': {'points': 2496, 'value': 624},\n",
       "  'bonus': {'points': 557, 'value': 557},\n",
       "  'goals_conceded': {'points': -1058, 'value': 2370},\n",
       "  'yellow_cards': {'points': -414, 'value': 414},\n",
       "  'goals_scored': {'points': 618, 'value': 103},\n",
       "  'own_goals': {'points': -28, 'value': 14},\n",
       "  'red_cards': {'points': -54, 'value': 18},\n",
       "  'penalties_missed': {'points': -2, 'value': 1}},\n",
       " 'MID': {'minutes': {'points': 5920, 'value': 231879},\n",
       "  'clean_sheets': {'points': 714, 'value': 714},\n",
       "  'yellow_cards': {'points': -479, 'value': 479},\n",
       "  'goals_scored': {'points': 1775, 'value': 355},\n",
       "  'assists': {'points': 1194, 'value': 398},\n",
       "  'bonus': {'points': 644, 'value': 644},\n",
       "  'red_cards': {'points': -36, 'value': 12},\n",
       "  'own_goals': {'points': -10, 'value': 5},\n",
       "  'penalties_missed': {'points': -16, 'value': 8}},\n",
       " 'FWD': {'minutes': {'points': 1880, 'value': 68812},\n",
       "  'goals_scored': {'points': 1192, 'value': 298},\n",
       "  'bonus': {'points': 461, 'value': 461},\n",
       "  'assists': {'points': 351, 'value': 117},\n",
       "  'yellow_cards': {'points': -95, 'value': 95},\n",
       "  'red_cards': {'points': -9, 'value': 3},\n",
       "  'penalties_missed': {'points': -14, 'value': 7},\n",
       "  'own_goals': {'points': -4, 'value': 2}}}"
      ]
     },
     "execution_count": 8,
     "metadata": {},
     "output_type": "execute_result"
    }
   ],
   "source": [
    "points_dict"
   ]
  },
  {
   "cell_type": "markdown",
   "metadata": {},
   "source": [
    "This looks interesting - let's try and get it into a dataframe so that we can more easily visualise it."
   ]
  },
  {
   "cell_type": "code",
   "execution_count": 9,
   "metadata": {},
   "outputs": [],
   "source": [
    "unique_events = []\n",
    "\n",
    "for i in list(points_dict.keys()):\n",
    "    unique_events.extend(list(points_dict[i].keys()))\n",
    "    \n",
    "unique_events = list(set(unique_events))"
   ]
  },
  {
   "cell_type": "code",
   "execution_count": 10,
   "metadata": {},
   "outputs": [],
   "source": [
    "#Instantiate a blank dataframe with an index of unique events\n",
    "df = pd.DataFrame(index=unique_events)\n",
    "\n",
    "#For each position, populate with the points\n",
    "positions = ['GKP', 'DEF', 'MID', 'FWD']\n",
    "for pos in positions:\n",
    "    position_points = {i:[points_dict[pos].get(i,{'points': 0,'value': 0})]\n",
    "                       for i in unique_events}\n",
    "    \n",
    "    new_col = pd.DataFrame(position_points).T\n",
    "    new_col.columns = [pos]\n",
    "    \n",
    "    df = pd.concat([df, new_col], axis=1)"
   ]
  },
  {
   "cell_type": "code",
   "execution_count": 11,
   "metadata": {},
   "outputs": [
    {
     "data": {
      "text/html": [
       "<div>\n",
       "<style scoped>\n",
       "    .dataframe tbody tr th:only-of-type {\n",
       "        vertical-align: middle;\n",
       "    }\n",
       "\n",
       "    .dataframe tbody tr th {\n",
       "        vertical-align: top;\n",
       "    }\n",
       "\n",
       "    .dataframe thead th {\n",
       "        text-align: right;\n",
       "    }\n",
       "</style>\n",
       "<table border=\"1\" class=\"dataframe\">\n",
       "  <thead>\n",
       "    <tr style=\"text-align: right;\">\n",
       "      <th></th>\n",
       "      <th>GKP</th>\n",
       "      <th>DEF</th>\n",
       "      <th>MID</th>\n",
       "      <th>FWD</th>\n",
       "    </tr>\n",
       "  </thead>\n",
       "  <tbody>\n",
       "    <tr>\n",
       "      <th>yellow_cards</th>\n",
       "      <td>{'points': -23, 'value': 23}</td>\n",
       "      <td>{'points': -414, 'value': 414}</td>\n",
       "      <td>{'points': -479, 'value': 479}</td>\n",
       "      <td>{'points': -95, 'value': 95}</td>\n",
       "    </tr>\n",
       "    <tr>\n",
       "      <th>red_cards</th>\n",
       "      <td>{'points': -6, 'value': 2}</td>\n",
       "      <td>{'points': -54, 'value': 18}</td>\n",
       "      <td>{'points': -36, 'value': 12}</td>\n",
       "      <td>{'points': -9, 'value': 3}</td>\n",
       "    </tr>\n",
       "    <tr>\n",
       "      <th>goals_scored</th>\n",
       "      <td>{'points': 0, 'value': 0}</td>\n",
       "      <td>{'points': 618, 'value': 103}</td>\n",
       "      <td>{'points': 1775, 'value': 355}</td>\n",
       "      <td>{'points': 1192, 'value': 298}</td>\n",
       "    </tr>\n",
       "    <tr>\n",
       "      <th>goals_conceded</th>\n",
       "      <td>{'points': -260, 'value': 584}</td>\n",
       "      <td>{'points': -1058, 'value': 2370}</td>\n",
       "      <td>{'points': 0, 'value': 0}</td>\n",
       "      <td>{'points': 0, 'value': 0}</td>\n",
       "    </tr>\n",
       "    <tr>\n",
       "      <th>bonus</th>\n",
       "      <td>{'points': 174, 'value': 174}</td>\n",
       "      <td>{'points': 557, 'value': 557}</td>\n",
       "      <td>{'points': 644, 'value': 644}</td>\n",
       "      <td>{'points': 461, 'value': 461}</td>\n",
       "    </tr>\n",
       "    <tr>\n",
       "      <th>saves</th>\n",
       "      <td>{'points': 393, 'value': 1401}</td>\n",
       "      <td>{'points': 0, 'value': 0}</td>\n",
       "      <td>{'points': 0, 'value': 0}</td>\n",
       "      <td>{'points': 0, 'value': 0}</td>\n",
       "    </tr>\n",
       "    <tr>\n",
       "      <th>penalties_missed</th>\n",
       "      <td>{'points': 0, 'value': 0}</td>\n",
       "      <td>{'points': -2, 'value': 1}</td>\n",
       "      <td>{'points': -16, 'value': 8}</td>\n",
       "      <td>{'points': -14, 'value': 7}</td>\n",
       "    </tr>\n",
       "    <tr>\n",
       "      <th>minutes</th>\n",
       "      <td>{'points': 1155, 'value': 51648}</td>\n",
       "      <td>{'points': 4963, 'value': 213428}</td>\n",
       "      <td>{'points': 5920, 'value': 231879}</td>\n",
       "      <td>{'points': 1880, 'value': 68812}</td>\n",
       "    </tr>\n",
       "    <tr>\n",
       "      <th>clean_sheets</th>\n",
       "      <td>{'points': 600, 'value': 150}</td>\n",
       "      <td>{'points': 2496, 'value': 624}</td>\n",
       "      <td>{'points': 714, 'value': 714}</td>\n",
       "      <td>{'points': 0, 'value': 0}</td>\n",
       "    </tr>\n",
       "    <tr>\n",
       "      <th>own_goals</th>\n",
       "      <td>{'points': -8, 'value': 4}</td>\n",
       "      <td>{'points': -28, 'value': 14}</td>\n",
       "      <td>{'points': -10, 'value': 5}</td>\n",
       "      <td>{'points': -4, 'value': 2}</td>\n",
       "    </tr>\n",
       "    <tr>\n",
       "      <th>assists</th>\n",
       "      <td>{'points': 9, 'value': 3}</td>\n",
       "      <td>{'points': 480, 'value': 160}</td>\n",
       "      <td>{'points': 1194, 'value': 398}</td>\n",
       "      <td>{'points': 351, 'value': 117}</td>\n",
       "    </tr>\n",
       "    <tr>\n",
       "      <th>penalties_saved</th>\n",
       "      <td>{'points': 70, 'value': 14}</td>\n",
       "      <td>{'points': 0, 'value': 0}</td>\n",
       "      <td>{'points': 0, 'value': 0}</td>\n",
       "      <td>{'points': 0, 'value': 0}</td>\n",
       "    </tr>\n",
       "  </tbody>\n",
       "</table>\n",
       "</div>"
      ],
      "text/plain": [
       "                                               GKP  \\\n",
       "yellow_cards          {'points': -23, 'value': 23}   \n",
       "red_cards               {'points': -6, 'value': 2}   \n",
       "goals_scored             {'points': 0, 'value': 0}   \n",
       "goals_conceded      {'points': -260, 'value': 584}   \n",
       "bonus                {'points': 174, 'value': 174}   \n",
       "saves               {'points': 393, 'value': 1401}   \n",
       "penalties_missed         {'points': 0, 'value': 0}   \n",
       "minutes           {'points': 1155, 'value': 51648}   \n",
       "clean_sheets         {'points': 600, 'value': 150}   \n",
       "own_goals               {'points': -8, 'value': 4}   \n",
       "assists                  {'points': 9, 'value': 3}   \n",
       "penalties_saved        {'points': 70, 'value': 14}   \n",
       "\n",
       "                                                DEF  \\\n",
       "yellow_cards         {'points': -414, 'value': 414}   \n",
       "red_cards              {'points': -54, 'value': 18}   \n",
       "goals_scored          {'points': 618, 'value': 103}   \n",
       "goals_conceded     {'points': -1058, 'value': 2370}   \n",
       "bonus                 {'points': 557, 'value': 557}   \n",
       "saves                     {'points': 0, 'value': 0}   \n",
       "penalties_missed         {'points': -2, 'value': 1}   \n",
       "minutes           {'points': 4963, 'value': 213428}   \n",
       "clean_sheets         {'points': 2496, 'value': 624}   \n",
       "own_goals              {'points': -28, 'value': 14}   \n",
       "assists               {'points': 480, 'value': 160}   \n",
       "penalties_saved           {'points': 0, 'value': 0}   \n",
       "\n",
       "                                                MID  \\\n",
       "yellow_cards         {'points': -479, 'value': 479}   \n",
       "red_cards              {'points': -36, 'value': 12}   \n",
       "goals_scored         {'points': 1775, 'value': 355}   \n",
       "goals_conceded            {'points': 0, 'value': 0}   \n",
       "bonus                 {'points': 644, 'value': 644}   \n",
       "saves                     {'points': 0, 'value': 0}   \n",
       "penalties_missed        {'points': -16, 'value': 8}   \n",
       "minutes           {'points': 5920, 'value': 231879}   \n",
       "clean_sheets          {'points': 714, 'value': 714}   \n",
       "own_goals               {'points': -10, 'value': 5}   \n",
       "assists              {'points': 1194, 'value': 398}   \n",
       "penalties_saved           {'points': 0, 'value': 0}   \n",
       "\n",
       "                                               FWD  \n",
       "yellow_cards          {'points': -95, 'value': 95}  \n",
       "red_cards               {'points': -9, 'value': 3}  \n",
       "goals_scored        {'points': 1192, 'value': 298}  \n",
       "goals_conceded           {'points': 0, 'value': 0}  \n",
       "bonus                {'points': 461, 'value': 461}  \n",
       "saves                    {'points': 0, 'value': 0}  \n",
       "penalties_missed       {'points': -14, 'value': 7}  \n",
       "minutes           {'points': 1880, 'value': 68812}  \n",
       "clean_sheets             {'points': 0, 'value': 0}  \n",
       "own_goals               {'points': -4, 'value': 2}  \n",
       "assists              {'points': 351, 'value': 117}  \n",
       "penalties_saved          {'points': 0, 'value': 0}  "
      ]
     },
     "execution_count": 11,
     "metadata": {},
     "output_type": "execute_result"
    }
   ],
   "source": [
    "df"
   ]
  },
  {
   "cell_type": "code",
   "execution_count": 12,
   "metadata": {},
   "outputs": [
    {
     "data": {
      "text/html": [
       "<div>\n",
       "<style scoped>\n",
       "    .dataframe tbody tr th:only-of-type {\n",
       "        vertical-align: middle;\n",
       "    }\n",
       "\n",
       "    .dataframe tbody tr th {\n",
       "        vertical-align: top;\n",
       "    }\n",
       "\n",
       "    .dataframe thead th {\n",
       "        text-align: right;\n",
       "    }\n",
       "</style>\n",
       "<table border=\"1\" class=\"dataframe\">\n",
       "  <thead>\n",
       "    <tr style=\"text-align: right;\">\n",
       "      <th></th>\n",
       "      <th>GKP</th>\n",
       "      <th>DEF</th>\n",
       "      <th>MID</th>\n",
       "      <th>FWD</th>\n",
       "      <th>Total</th>\n",
       "    </tr>\n",
       "  </thead>\n",
       "  <tbody>\n",
       "    <tr>\n",
       "      <th>yellow_cards</th>\n",
       "      <td>-23</td>\n",
       "      <td>-414</td>\n",
       "      <td>-479</td>\n",
       "      <td>-95</td>\n",
       "      <td>-1011</td>\n",
       "    </tr>\n",
       "    <tr>\n",
       "      <th>red_cards</th>\n",
       "      <td>-6</td>\n",
       "      <td>-54</td>\n",
       "      <td>-36</td>\n",
       "      <td>-9</td>\n",
       "      <td>-105</td>\n",
       "    </tr>\n",
       "    <tr>\n",
       "      <th>goals_scored</th>\n",
       "      <td>0</td>\n",
       "      <td>618</td>\n",
       "      <td>1775</td>\n",
       "      <td>1192</td>\n",
       "      <td>3585</td>\n",
       "    </tr>\n",
       "    <tr>\n",
       "      <th>goals_conceded</th>\n",
       "      <td>-260</td>\n",
       "      <td>-1058</td>\n",
       "      <td>0</td>\n",
       "      <td>0</td>\n",
       "      <td>-1318</td>\n",
       "    </tr>\n",
       "    <tr>\n",
       "      <th>bonus</th>\n",
       "      <td>174</td>\n",
       "      <td>557</td>\n",
       "      <td>644</td>\n",
       "      <td>461</td>\n",
       "      <td>1836</td>\n",
       "    </tr>\n",
       "    <tr>\n",
       "      <th>saves</th>\n",
       "      <td>393</td>\n",
       "      <td>0</td>\n",
       "      <td>0</td>\n",
       "      <td>0</td>\n",
       "      <td>393</td>\n",
       "    </tr>\n",
       "    <tr>\n",
       "      <th>penalties_missed</th>\n",
       "      <td>0</td>\n",
       "      <td>-2</td>\n",
       "      <td>-16</td>\n",
       "      <td>-14</td>\n",
       "      <td>-32</td>\n",
       "    </tr>\n",
       "    <tr>\n",
       "      <th>minutes</th>\n",
       "      <td>1155</td>\n",
       "      <td>4963</td>\n",
       "      <td>5920</td>\n",
       "      <td>1880</td>\n",
       "      <td>13918</td>\n",
       "    </tr>\n",
       "    <tr>\n",
       "      <th>clean_sheets</th>\n",
       "      <td>600</td>\n",
       "      <td>2496</td>\n",
       "      <td>714</td>\n",
       "      <td>0</td>\n",
       "      <td>3810</td>\n",
       "    </tr>\n",
       "    <tr>\n",
       "      <th>own_goals</th>\n",
       "      <td>-8</td>\n",
       "      <td>-28</td>\n",
       "      <td>-10</td>\n",
       "      <td>-4</td>\n",
       "      <td>-50</td>\n",
       "    </tr>\n",
       "    <tr>\n",
       "      <th>assists</th>\n",
       "      <td>9</td>\n",
       "      <td>480</td>\n",
       "      <td>1194</td>\n",
       "      <td>351</td>\n",
       "      <td>2034</td>\n",
       "    </tr>\n",
       "    <tr>\n",
       "      <th>penalties_saved</th>\n",
       "      <td>70</td>\n",
       "      <td>0</td>\n",
       "      <td>0</td>\n",
       "      <td>0</td>\n",
       "      <td>70</td>\n",
       "    </tr>\n",
       "  </tbody>\n",
       "</table>\n",
       "</div>"
      ],
      "text/plain": [
       "                   GKP   DEF   MID   FWD  Total\n",
       "yellow_cards       -23  -414  -479   -95  -1011\n",
       "red_cards           -6   -54   -36    -9   -105\n",
       "goals_scored         0   618  1775  1192   3585\n",
       "goals_conceded    -260 -1058     0     0  -1318\n",
       "bonus              174   557   644   461   1836\n",
       "saves              393     0     0     0    393\n",
       "penalties_missed     0    -2   -16   -14    -32\n",
       "minutes           1155  4963  5920  1880  13918\n",
       "clean_sheets       600  2496   714     0   3810\n",
       "own_goals           -8   -28   -10    -4    -50\n",
       "assists              9   480  1194   351   2034\n",
       "penalties_saved     70     0     0     0     70"
      ]
     },
     "execution_count": 12,
     "metadata": {},
     "output_type": "execute_result"
    }
   ],
   "source": [
    "df_points = df.copy()\n",
    "for col in df_points.columns:\n",
    "    df_points[col] = df_points[col].map(lambda x: x['points'])\n",
    "df_points['Total'] = df_points.sum(axis=1)\n",
    "\n",
    "df_points"
   ]
  },
  {
   "cell_type": "markdown",
   "metadata": {},
   "source": [
    "Let's start visualising this data.\n",
    "\n",
    "Firstly, a comparison of the number of players in the game by position, and the overall points by position."
   ]
  },
  {
   "cell_type": "code",
   "execution_count": 13,
   "metadata": {},
   "outputs": [
    {
     "data": {
      "image/png": "[encoded data removed]",
      "text/plain": [
       "<Figure size 288x288 with 1 Axes>"
      ]
     },
     "metadata": {
      "needs_background": "light"
     },
     "output_type": "display_data"
    }
   ],
   "source": [
    "X = df_points.columns[:-1]\n",
    "Y = [df_players.groupby('Position').count()['PlayerID'][i] for i in X]\n",
    "\n",
    "plt.figure(figsize=(4,4))\n",
    "\n",
    "plt.bar(X,Y)\n",
    "plt.title('Total Players in FPL')\n",
    "for i, t in enumerate(Y):\n",
    "    text = f'{t}\\n({int(round(100*t/sum(Y)))}%)'\n",
    "    plt.text(i, t-35, text, ha='center', color='white', fontsize=14);"
   ]
  },
  {
   "cell_type": "code",
   "execution_count": 22,
   "metadata": {
    "scrolled": true
   },
   "outputs": [
    {
     "data": {
      "image/png": "[encoded data removed]",
      "text/plain": [
       "<Figure size 288x288 with 1 Axes>"
      ]
     },
     "metadata": {
      "needs_background": "light"
     },
     "output_type": "display_data"
    }
   ],
   "source": [
    "X = df_points.columns[:-1]\n",
    "Y = df_points.sum()[:-1]\n",
    "\n",
    "plt.figure(figsize=(4,4))\n",
    "\n",
    "plt.bar(X,Y,color=CB91_Green)\n",
    "plt.title('Points Earned (so far)')\n",
    "for i, t in enumerate(Y):\n",
    "    text = f'{t}\\n({round(100*t/sum(Y))}%)'\n",
    "    plt.text(i, t-1200, text, ha='center', color='white', fontsize=14);"
   ]
  },
  {
   "cell_type": "markdown",
   "metadata": {},
   "source": [
    "So it seems like points are actually quite well distributed amongst the different positions.\n",
    "\n",
    "However, forwards do seem like better points generators when we exclude the points gained for simply playing minutes."
   ]
  },
  {
   "cell_type": "code",
   "execution_count": 15,
   "metadata": {},
   "outputs": [
    {
     "data": {
      "image/png": "[encoded data removed]",
      "text/plain": [
       "<Figure size 576x288 with 1 Axes>"
      ]
     },
     "metadata": {
      "needs_background": "light"
     },
     "output_type": "display_data"
    }
   ],
   "source": [
    "X = df_points.columns[:-1]\n",
    "Y = (df_points.sum() - df_points.loc['minutes'])[:-1]\n",
    "\n",
    "plt.figure(figsize=(8,4))\n",
    "\n",
    "plt.bar(X,Y,color=CB91_Green)\n",
    "plt.title('Points Earned By Position\\n(Excl. Mins Played, up to GW29)')\n",
    "for i, t in enumerate(Y):\n",
    "    text = f'{t}\\n({round(100*t/sum(Y))}%)'\n",
    "    plt.text(i, t-500, text, ha='center', color='white', fontsize=14);"
   ]
  },
  {
   "cell_type": "markdown",
   "metadata": {},
   "source": [
    "Defenders get a bit of a raw deal in terms of negative points. Though all positions can lose points for yellow and red cards (as well as missing penalties), defenders and goalkeepers also lose points for conceding more than 2 goals."
   ]
  },
  {
   "cell_type": "code",
   "execution_count": 16,
   "metadata": {},
   "outputs": [
    {
     "data": {
      "image/png": "[encoded data removed]",
      "text/plain": [
       "<Figure size 576x288 with 1 Axes>"
      ]
     },
     "metadata": {
      "needs_background": "light"
     },
     "output_type": "display_data"
    }
   ],
   "source": [
    "df_neg = df_points.loc[df_points['Total']<0]\n",
    "\n",
    "X = df_neg.columns[:-1]\n",
    "Y = df_neg.sum()[:-1]\n",
    "\n",
    "plt.figure(figsize=(8,4))\n",
    "\n",
    "plt.axhline(0, color='grey')\n",
    "plt.bar(X,Y,color=CB91_Purple)\n",
    "plt.ylim(-1800,100)\n",
    "\n",
    "plt.title('Negative Points Earned (up to GW29)')\n",
    "\n",
    "for i, t in enumerate(Y):\n",
    "    text = f'{t}\\n({round(100*t/sum(Y))}%)'\n",
    "    plt.text(i, t-250, text, ha='center', color='dimgrey', fontsize=14);"
   ]
  },
  {
   "cell_type": "markdown",
   "metadata": {},
   "source": [
    "What about where points come from?"
   ]
  },
  {
   "cell_type": "code",
   "execution_count": 30,
   "metadata": {},
   "outputs": [
    {
     "data": {
      "image/png": "[encoded data removed]",
      "text/plain": [
       "<Figure size 576x288 with 1 Axes>"
      ]
     },
     "metadata": {
      "needs_background": "light"
     },
     "output_type": "display_data"
    }
   ],
   "source": [
    "df_temp = df_points.sort_values('Total')['Total']\n",
    "\n",
    "X = df_temp.index\n",
    "Y = df_temp\n",
    "\n",
    "plt.figure(figsize=(8,4))\n",
    "\n",
    "plt.axvline(0, color='grey')\n",
    "plt.barh(X,Y,color=CB91_Purple)\n",
    "plt.xlim(-3000,)\n",
    "\n",
    "plt.title('Source of All Points Earned')\n",
    "\n",
    "for i, t in enumerate(Y):\n",
    "    text = f'{t}'\n",
    "    if t>0:\n",
    "        plt.text(t+100, i, text, va='center',\n",
    "                 color='dimgrey', fontsize=12)\n",
    "    else:\n",
    "        plt.text(t-100, i, text, va='center', ha='right',\n",
    "                 color='dimgrey', fontsize=12)\n",
    "        \n",
    "plt.yticks(range(12),\n",
    "           ['Minutes','Clean Sheets','Goals Scored','Assists','Bonus Points',\n",
    "           'Saves','Penalties Saved', 'Penalties Missed', 'Own Goals',\n",
    "           'Red Cards', 'Yellow Cards', 'Goals Conceded'][::-1]);"
   ]
  },
  {
   "cell_type": "markdown",
   "metadata": {},
   "source": [
    "Evidently, most points are scored through just turning up to play...\n",
    "\n",
    "Let's remove this bar, and rescale the graph."
   ]
  },
  {
   "cell_type": "code",
   "execution_count": 18,
   "metadata": {},
   "outputs": [
    {
     "data": {
      "image/png": "[encoded data removed]",
      "text/plain": [
       "<Figure size 576x432 with 1 Axes>"
      ]
     },
     "metadata": {
      "needs_background": "light"
     },
     "output_type": "display_data"
    }
   ],
   "source": [
    "df_temp = df_points.sort_values('Total')['Total'][:-1]\n",
    "\n",
    "X = df_temp.index\n",
    "Y = df_temp\n",
    "\n",
    "plt.figure(figsize=(8,6))\n",
    "\n",
    "plt.axvline(0, color='grey')\n",
    "plt.barh(X,Y)\n",
    "plt.xlim(-1800,)\n",
    "\n",
    "plt.title('Source of All Points Earned (up to GW29)')\n",
    "\n",
    "for i, t in enumerate(Y):\n",
    "    text = f'{t}'\n",
    "    if t>0:\n",
    "        plt.text(t+50, i, text, va='center',\n",
    "                 color='dimgrey', fontsize=12)\n",
    "    else:\n",
    "        plt.text(t-50, i, text, va='center', ha='right',\n",
    "                 color='dimgrey', fontsize=12)"
   ]
  },
  {
   "cell_type": "code",
   "execution_count": 19,
   "metadata": {},
   "outputs": [
    {
     "data": {
      "image/png": "[encoded data removed]",
      "text/plain": [
       "<Figure size 576x360 with 1 Axes>"
      ]
     },
     "metadata": {
      "needs_background": "light"
     },
     "output_type": "display_data"
    }
   ],
   "source": [
    "df_temp = df_points.sort_values('DEF')['DEF'][:-1]\n",
    "df_temp = df_temp[df_temp!=0]\n",
    "\n",
    "X = df_temp.index\n",
    "Y = df_temp\n",
    "\n",
    "plt.figure(figsize=(8,5))\n",
    "\n",
    "plt.axvline(0, color='grey')\n",
    "plt.barh(X,Y,color=color_list[1])\n",
    "plt.xlim(-1500,)\n",
    "\n",
    "plt.title('Source of Defender Points Earned (up to GW29)')\n",
    "\n",
    "for i, t in enumerate(Y):\n",
    "    text = f'{t}'\n",
    "    if t>0:\n",
    "        plt.text(t+50, i, text, va='center',\n",
    "                 color='dimgrey', fontsize=12)\n",
    "    else:\n",
    "        plt.text(t-50, i, text, va='center', ha='right',\n",
    "                 color='dimgrey', fontsize=12)"
   ]
  },
  {
   "cell_type": "code",
   "execution_count": 20,
   "metadata": {},
   "outputs": [
    {
     "data": {
      "image/png": "[encoded data removed]",
      "text/plain": [
       "<Figure size 576x360 with 1 Axes>"
      ]
     },
     "metadata": {
      "needs_background": "light"
     },
     "output_type": "display_data"
    }
   ],
   "source": [
    "df_temp = df_points.sort_values('MID')['MID'][:-1]\n",
    "df_temp = df_temp[df_temp!=0]\n",
    "\n",
    "X = df_temp.index\n",
    "Y = df_temp\n",
    "\n",
    "plt.figure(figsize=(8,5))\n",
    "\n",
    "plt.axvline(0, color='grey')\n",
    "plt.barh(X,Y,color=color_list[2])\n",
    "plt.xlim(-600,)\n",
    "\n",
    "plt.title('Source of Midfielder Points Earned (up to GW29)')\n",
    "\n",
    "for i, t in enumerate(Y):\n",
    "    text = f'{t}'\n",
    "    if t>0:\n",
    "        plt.text(t+20, i, text, va='center',\n",
    "                 color='dimgrey', fontsize=12)\n",
    "    else:\n",
    "        plt.text(t-20, i, text, va='center', ha='right',\n",
    "                 color='dimgrey', fontsize=12)"
   ]
  },
  {
   "cell_type": "code",
   "execution_count": 21,
   "metadata": {},
   "outputs": [
    {
     "data": {
      "image/png": "[encoded data removed]",
      "text/plain": [
       "<Figure size 576x360 with 1 Axes>"
      ]
     },
     "metadata": {
      "needs_background": "light"
     },
     "output_type": "display_data"
    }
   ],
   "source": [
    "df_temp = df_points.sort_values('FWD')['FWD'][:-1]\n",
    "df_temp = df_temp[df_temp!=0]\n",
    "\n",
    "X = df_temp.index\n",
    "Y = df_temp\n",
    "\n",
    "plt.figure(figsize=(8,5))\n",
    "\n",
    "plt.axvline(0, color='grey')\n",
    "plt.barh(X,Y,color=color_list[3])\n",
    "plt.xlim(-200,)\n",
    "\n",
    "plt.title('Source of Forward Points Earned (up to GW29)')\n",
    "\n",
    "for i, t in enumerate(Y):\n",
    "    text = f'{t}'\n",
    "    if t>0:\n",
    "        plt.text(t+10, i, text, va='center',\n",
    "                 color='dimgrey', fontsize=12)\n",
    "    else:\n",
    "        plt.text(t-10, i, text, va='center', ha='right',\n",
    "                 color='dimgrey', fontsize=12)"
   ]
  },
  {
   "cell_type": "code",
   "execution_count": null,
   "metadata": {},
   "outputs": [],
   "source": []
  }
 ],
 "metadata": {
  "kernelspec": {
   "display_name": "Python 3",
   "language": "python",
   "name": "python3"
  },
  "language_info": {
   "codemirror_mode": {
    "name": "ipython",
    "version": 3
   },
   "file_extension": ".py",
   "mimetype": "text/x-python",
   "name": "python",
   "nbconvert_exporter": "python",
   "pygments_lexer": "ipython3",
   "version": "3.7.3"
  }
 },
 "nbformat": 4,
 "nbformat_minor": 2
}
